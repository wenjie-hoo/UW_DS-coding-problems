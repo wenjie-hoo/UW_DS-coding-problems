{
 "cells": [
  {
   "cell_type": "code",
   "execution_count": 1,
   "id": "bb7e343d",
   "metadata": {},
   "outputs": [],
   "source": [
    "import itertools\n",
    "from numpy import var\n",
    "import pulp\n",
    "import string"
   ]
  },
  {
   "cell_type": "code",
   "execution_count": 2,
   "id": "7b3fa908",
   "metadata": {},
   "outputs": [],
   "source": [
    "def covered(tile, base):\n",
    "    return {(base[0] + t[0], base[1] + t[1]): True for t in tile}"
   ]
  },
  {
   "cell_type": "code",
   "execution_count": 23,
   "id": "53c15659",
   "metadata": {},
   "outputs": [],
   "source": [
    "tiles = [[(0,0), (1,0), (1,1), (0,1)],\n",
    "         [(0,0), (2,0), (2,2), (0,2)]]\n",
    "#          [(0,0), (3,0), (3,3), (0,3)],\n",
    "#          [(0,0), (4,0), (4,4), (0,4)],\n",
    "#          [(0,0), (5,0), (5,5), (0,5)]]"
   ]
  },
  {
   "cell_type": "code",
   "execution_count": 4,
   "id": "f62d51b3",
   "metadata": {},
   "outputs": [],
   "source": [
    "rows = 10\n",
    "cols = 10"
   ]
  },
  {
   "cell_type": "code",
   "execution_count": 5,
   "id": "49c5fee4",
   "metadata": {},
   "outputs": [],
   "source": [
    "squares = {x: True for x in itertools.product(range(rows), range(cols))}"
   ]
  },
  {
   "cell_type": "code",
   "execution_count": 6,
   "id": "33aa3820",
   "metadata": {},
   "outputs": [],
   "source": [
    "vars = list(itertools.product(range(rows), range(cols), range(len(tiles))))\n"
   ]
  },
  {
   "cell_type": "code",
   "execution_count": 7,
   "id": "f9c856ee",
   "metadata": {},
   "outputs": [],
   "source": [
    "vars = [x for x in vars if all([y in squares for y in covered(tiles[x[2]], (x[0], x[1])).keys()])]\n"
   ]
  },
  {
   "cell_type": "code",
   "execution_count": 9,
   "id": "09289ac1",
   "metadata": {},
   "outputs": [
    {
     "name": "stdout",
     "output_type": "stream",
     "text": [
      "{(0, 0, 0): tiles_(0,_0,_0), (0, 0, 1): tiles_(0,_0,_1), (0, 0, 2): tiles_(0,_0,_2), (0, 0, 3): tiles_(0,_0,_3), (0, 0, 4): tiles_(0,_0,_4), (0, 1, 0): tiles_(0,_1,_0), (0, 1, 1): tiles_(0,_1,_1), (0, 1, 2): tiles_(0,_1,_2), (0, 1, 3): tiles_(0,_1,_3), (0, 1, 4): tiles_(0,_1,_4), (0, 2, 0): tiles_(0,_2,_0), (0, 2, 1): tiles_(0,_2,_1), (0, 2, 2): tiles_(0,_2,_2), (0, 2, 3): tiles_(0,_2,_3), (0, 2, 4): tiles_(0,_2,_4), (0, 3, 0): tiles_(0,_3,_0), (0, 3, 1): tiles_(0,_3,_1), (0, 3, 2): tiles_(0,_3,_2), (0, 3, 3): tiles_(0,_3,_3), (0, 3, 4): tiles_(0,_3,_4), (0, 4, 0): tiles_(0,_4,_0), (0, 4, 1): tiles_(0,_4,_1), (0, 4, 2): tiles_(0,_4,_2), (0, 4, 3): tiles_(0,_4,_3), (0, 4, 4): tiles_(0,_4,_4), (0, 5, 0): tiles_(0,_5,_0), (0, 5, 1): tiles_(0,_5,_1), (0, 5, 2): tiles_(0,_5,_2), (0, 5, 3): tiles_(0,_5,_3), (0, 6, 0): tiles_(0,_6,_0), (0, 6, 1): tiles_(0,_6,_1), (0, 6, 2): tiles_(0,_6,_2), (0, 7, 0): tiles_(0,_7,_0), (0, 7, 1): tiles_(0,_7,_1), (0, 8, 0): tiles_(0,_8,_0), (1, 0, 0): tiles_(1,_0,_0), (1, 0, 1): tiles_(1,_0,_1), (1, 0, 2): tiles_(1,_0,_2), (1, 0, 3): tiles_(1,_0,_3), (1, 0, 4): tiles_(1,_0,_4), (1, 1, 0): tiles_(1,_1,_0), (1, 1, 1): tiles_(1,_1,_1), (1, 1, 2): tiles_(1,_1,_2), (1, 1, 3): tiles_(1,_1,_3), (1, 1, 4): tiles_(1,_1,_4), (1, 2, 0): tiles_(1,_2,_0), (1, 2, 1): tiles_(1,_2,_1), (1, 2, 2): tiles_(1,_2,_2), (1, 2, 3): tiles_(1,_2,_3), (1, 2, 4): tiles_(1,_2,_4), (1, 3, 0): tiles_(1,_3,_0), (1, 3, 1): tiles_(1,_3,_1), (1, 3, 2): tiles_(1,_3,_2), (1, 3, 3): tiles_(1,_3,_3), (1, 3, 4): tiles_(1,_3,_4), (1, 4, 0): tiles_(1,_4,_0), (1, 4, 1): tiles_(1,_4,_1), (1, 4, 2): tiles_(1,_4,_2), (1, 4, 3): tiles_(1,_4,_3), (1, 4, 4): tiles_(1,_4,_4), (1, 5, 0): tiles_(1,_5,_0), (1, 5, 1): tiles_(1,_5,_1), (1, 5, 2): tiles_(1,_5,_2), (1, 5, 3): tiles_(1,_5,_3), (1, 6, 0): tiles_(1,_6,_0), (1, 6, 1): tiles_(1,_6,_1), (1, 6, 2): tiles_(1,_6,_2), (1, 7, 0): tiles_(1,_7,_0), (1, 7, 1): tiles_(1,_7,_1), (1, 8, 0): tiles_(1,_8,_0), (2, 0, 0): tiles_(2,_0,_0), (2, 0, 1): tiles_(2,_0,_1), (2, 0, 2): tiles_(2,_0,_2), (2, 0, 3): tiles_(2,_0,_3), (2, 0, 4): tiles_(2,_0,_4), (2, 1, 0): tiles_(2,_1,_0), (2, 1, 1): tiles_(2,_1,_1), (2, 1, 2): tiles_(2,_1,_2), (2, 1, 3): tiles_(2,_1,_3), (2, 1, 4): tiles_(2,_1,_4), (2, 2, 0): tiles_(2,_2,_0), (2, 2, 1): tiles_(2,_2,_1), (2, 2, 2): tiles_(2,_2,_2), (2, 2, 3): tiles_(2,_2,_3), (2, 2, 4): tiles_(2,_2,_4), (2, 3, 0): tiles_(2,_3,_0), (2, 3, 1): tiles_(2,_3,_1), (2, 3, 2): tiles_(2,_3,_2), (2, 3, 3): tiles_(2,_3,_3), (2, 3, 4): tiles_(2,_3,_4), (2, 4, 0): tiles_(2,_4,_0), (2, 4, 1): tiles_(2,_4,_1), (2, 4, 2): tiles_(2,_4,_2), (2, 4, 3): tiles_(2,_4,_3), (2, 4, 4): tiles_(2,_4,_4), (2, 5, 0): tiles_(2,_5,_0), (2, 5, 1): tiles_(2,_5,_1), (2, 5, 2): tiles_(2,_5,_2), (2, 5, 3): tiles_(2,_5,_3), (2, 6, 0): tiles_(2,_6,_0), (2, 6, 1): tiles_(2,_6,_1), (2, 6, 2): tiles_(2,_6,_2), (2, 7, 0): tiles_(2,_7,_0), (2, 7, 1): tiles_(2,_7,_1), (2, 8, 0): tiles_(2,_8,_0), (3, 0, 0): tiles_(3,_0,_0), (3, 0, 1): tiles_(3,_0,_1), (3, 0, 2): tiles_(3,_0,_2), (3, 0, 3): tiles_(3,_0,_3), (3, 0, 4): tiles_(3,_0,_4), (3, 1, 0): tiles_(3,_1,_0), (3, 1, 1): tiles_(3,_1,_1), (3, 1, 2): tiles_(3,_1,_2), (3, 1, 3): tiles_(3,_1,_3), (3, 1, 4): tiles_(3,_1,_4), (3, 2, 0): tiles_(3,_2,_0), (3, 2, 1): tiles_(3,_2,_1), (3, 2, 2): tiles_(3,_2,_2), (3, 2, 3): tiles_(3,_2,_3), (3, 2, 4): tiles_(3,_2,_4), (3, 3, 0): tiles_(3,_3,_0), (3, 3, 1): tiles_(3,_3,_1), (3, 3, 2): tiles_(3,_3,_2), (3, 3, 3): tiles_(3,_3,_3), (3, 3, 4): tiles_(3,_3,_4), (3, 4, 0): tiles_(3,_4,_0), (3, 4, 1): tiles_(3,_4,_1), (3, 4, 2): tiles_(3,_4,_2), (3, 4, 3): tiles_(3,_4,_3), (3, 4, 4): tiles_(3,_4,_4), (3, 5, 0): tiles_(3,_5,_0), (3, 5, 1): tiles_(3,_5,_1), (3, 5, 2): tiles_(3,_5,_2), (3, 5, 3): tiles_(3,_5,_3), (3, 6, 0): tiles_(3,_6,_0), (3, 6, 1): tiles_(3,_6,_1), (3, 6, 2): tiles_(3,_6,_2), (3, 7, 0): tiles_(3,_7,_0), (3, 7, 1): tiles_(3,_7,_1), (3, 8, 0): tiles_(3,_8,_0), (4, 0, 0): tiles_(4,_0,_0), (4, 0, 1): tiles_(4,_0,_1), (4, 0, 2): tiles_(4,_0,_2), (4, 0, 3): tiles_(4,_0,_3), (4, 0, 4): tiles_(4,_0,_4), (4, 1, 0): tiles_(4,_1,_0), (4, 1, 1): tiles_(4,_1,_1), (4, 1, 2): tiles_(4,_1,_2), (4, 1, 3): tiles_(4,_1,_3), (4, 1, 4): tiles_(4,_1,_4), (4, 2, 0): tiles_(4,_2,_0), (4, 2, 1): tiles_(4,_2,_1), (4, 2, 2): tiles_(4,_2,_2), (4, 2, 3): tiles_(4,_2,_3), (4, 2, 4): tiles_(4,_2,_4), (4, 3, 0): tiles_(4,_3,_0), (4, 3, 1): tiles_(4,_3,_1), (4, 3, 2): tiles_(4,_3,_2), (4, 3, 3): tiles_(4,_3,_3), (4, 3, 4): tiles_(4,_3,_4), (4, 4, 0): tiles_(4,_4,_0), (4, 4, 1): tiles_(4,_4,_1), (4, 4, 2): tiles_(4,_4,_2), (4, 4, 3): tiles_(4,_4,_3), (4, 4, 4): tiles_(4,_4,_4), (4, 5, 0): tiles_(4,_5,_0), (4, 5, 1): tiles_(4,_5,_1), (4, 5, 2): tiles_(4,_5,_2), (4, 5, 3): tiles_(4,_5,_3), (4, 6, 0): tiles_(4,_6,_0), (4, 6, 1): tiles_(4,_6,_1), (4, 6, 2): tiles_(4,_6,_2), (4, 7, 0): tiles_(4,_7,_0), (4, 7, 1): tiles_(4,_7,_1), (4, 8, 0): tiles_(4,_8,_0), (5, 0, 0): tiles_(5,_0,_0), (5, 0, 1): tiles_(5,_0,_1), (5, 0, 2): tiles_(5,_0,_2), (5, 0, 3): tiles_(5,_0,_3), (5, 1, 0): tiles_(5,_1,_0), (5, 1, 1): tiles_(5,_1,_1), (5, 1, 2): tiles_(5,_1,_2), (5, 1, 3): tiles_(5,_1,_3), (5, 2, 0): tiles_(5,_2,_0), (5, 2, 1): tiles_(5,_2,_1), (5, 2, 2): tiles_(5,_2,_2), (5, 2, 3): tiles_(5,_2,_3), (5, 3, 0): tiles_(5,_3,_0), (5, 3, 1): tiles_(5,_3,_1), (5, 3, 2): tiles_(5,_3,_2), (5, 3, 3): tiles_(5,_3,_3), (5, 4, 0): tiles_(5,_4,_0), (5, 4, 1): tiles_(5,_4,_1), (5, 4, 2): tiles_(5,_4,_2), (5, 4, 3): tiles_(5,_4,_3), (5, 5, 0): tiles_(5,_5,_0), (5, 5, 1): tiles_(5,_5,_1), (5, 5, 2): tiles_(5,_5,_2), (5, 5, 3): tiles_(5,_5,_3), (5, 6, 0): tiles_(5,_6,_0), (5, 6, 1): tiles_(5,_6,_1), (5, 6, 2): tiles_(5,_6,_2), (5, 7, 0): tiles_(5,_7,_0), (5, 7, 1): tiles_(5,_7,_1), (5, 8, 0): tiles_(5,_8,_0), (6, 0, 0): tiles_(6,_0,_0), (6, 0, 1): tiles_(6,_0,_1), (6, 0, 2): tiles_(6,_0,_2), (6, 1, 0): tiles_(6,_1,_0), (6, 1, 1): tiles_(6,_1,_1), (6, 1, 2): tiles_(6,_1,_2), (6, 2, 0): tiles_(6,_2,_0), (6, 2, 1): tiles_(6,_2,_1), (6, 2, 2): tiles_(6,_2,_2), (6, 3, 0): tiles_(6,_3,_0), (6, 3, 1): tiles_(6,_3,_1), (6, 3, 2): tiles_(6,_3,_2), (6, 4, 0): tiles_(6,_4,_0), (6, 4, 1): tiles_(6,_4,_1), (6, 4, 2): tiles_(6,_4,_2), (6, 5, 0): tiles_(6,_5,_0), (6, 5, 1): tiles_(6,_5,_1), (6, 5, 2): tiles_(6,_5,_2), (6, 6, 0): tiles_(6,_6,_0), (6, 6, 1): tiles_(6,_6,_1), (6, 6, 2): tiles_(6,_6,_2), (6, 7, 0): tiles_(6,_7,_0), (6, 7, 1): tiles_(6,_7,_1), (6, 8, 0): tiles_(6,_8,_0), (7, 0, 0): tiles_(7,_0,_0), (7, 0, 1): tiles_(7,_0,_1), (7, 1, 0): tiles_(7,_1,_0), (7, 1, 1): tiles_(7,_1,_1), (7, 2, 0): tiles_(7,_2,_0), (7, 2, 1): tiles_(7,_2,_1), (7, 3, 0): tiles_(7,_3,_0), (7, 3, 1): tiles_(7,_3,_1), (7, 4, 0): tiles_(7,_4,_0), (7, 4, 1): tiles_(7,_4,_1), (7, 5, 0): tiles_(7,_5,_0), (7, 5, 1): tiles_(7,_5,_1), (7, 6, 0): tiles_(7,_6,_0), (7, 6, 1): tiles_(7,_6,_1), (7, 7, 0): tiles_(7,_7,_0), (7, 7, 1): tiles_(7,_7,_1), (7, 8, 0): tiles_(7,_8,_0), (8, 0, 0): tiles_(8,_0,_0), (8, 1, 0): tiles_(8,_1,_0), (8, 2, 0): tiles_(8,_2,_0), (8, 3, 0): tiles_(8,_3,_0), (8, 4, 0): tiles_(8,_4,_0), (8, 5, 0): tiles_(8,_5,_0), (8, 6, 0): tiles_(8,_6,_0), (8, 7, 0): tiles_(8,_7,_0), (8, 8, 0): tiles_(8,_8,_0)}\n"
     ]
    }
   ],
   "source": [
    "x = pulp.LpVariable.dicts('tiles', vars, lowBound=0, upBound=1, cat=pulp.LpInteger)\n",
    "print(x)"
   ]
  },
  {
   "cell_type": "code",
   "execution_count": 10,
   "id": "f740b0fe",
   "metadata": {
    "scrolled": true
   },
   "outputs": [
    {
     "name": "stdout",
     "output_type": "stream",
     "text": [
      "polyominoes:\n",
      "MAXIMIZE\n",
      "None\n",
      "VARIABLES\n",
      "\n"
     ]
    }
   ],
   "source": [
    "mod = pulp.LpProblem('polyominoes', pulp.LpMaximize)\n",
    "print(mod)"
   ]
  },
  {
   "cell_type": "code",
   "execution_count": 24,
   "id": "f80e480e",
   "metadata": {},
   "outputs": [
    {
     "ename": "IndexError",
     "evalue": "list index out of range",
     "output_type": "error",
     "traceback": [
      "\u001b[0;31m---------------------------------------------------------------------------\u001b[0m",
      "\u001b[0;31mIndexError\u001b[0m                                Traceback (most recent call last)",
      "\u001b[0;32m/var/folders/zf/z_5ht60d3n7gfsmz14cjq6fc0000gn/T/ipykernel_37848/912540104.py\u001b[0m in \u001b[0;36m<module>\u001b[0;34m\u001b[0m\n\u001b[0;32m----> 1\u001b[0;31m \u001b[0mmod\u001b[0m \u001b[0;34m+=\u001b[0m \u001b[0msum\u001b[0m\u001b[0;34m(\u001b[0m\u001b[0;34m[\u001b[0m\u001b[0mlen\u001b[0m\u001b[0;34m(\u001b[0m\u001b[0mtiles\u001b[0m\u001b[0;34m[\u001b[0m\u001b[0mp\u001b[0m\u001b[0;34m[\u001b[0m\u001b[0;36m2\u001b[0m\u001b[0;34m]\u001b[0m\u001b[0;34m]\u001b[0m\u001b[0;34m)\u001b[0m \u001b[0;34m*\u001b[0m \u001b[0mx\u001b[0m\u001b[0;34m[\u001b[0m\u001b[0mp\u001b[0m\u001b[0;34m]\u001b[0m \u001b[0;32mfor\u001b[0m \u001b[0mp\u001b[0m \u001b[0;32min\u001b[0m \u001b[0mvars\u001b[0m\u001b[0;34m]\u001b[0m\u001b[0;34m)\u001b[0m\u001b[0;34m\u001b[0m\u001b[0;34m\u001b[0m\u001b[0m\n\u001b[0m\u001b[1;32m      2\u001b[0m \u001b[0mprint\u001b[0m\u001b[0;34m(\u001b[0m\u001b[0mmod\u001b[0m\u001b[0;34m)\u001b[0m\u001b[0;34m\u001b[0m\u001b[0;34m\u001b[0m\u001b[0m\n",
      "\u001b[0;32m/var/folders/zf/z_5ht60d3n7gfsmz14cjq6fc0000gn/T/ipykernel_37848/912540104.py\u001b[0m in \u001b[0;36m<listcomp>\u001b[0;34m(.0)\u001b[0m\n\u001b[0;32m----> 1\u001b[0;31m \u001b[0mmod\u001b[0m \u001b[0;34m+=\u001b[0m \u001b[0msum\u001b[0m\u001b[0;34m(\u001b[0m\u001b[0;34m[\u001b[0m\u001b[0mlen\u001b[0m\u001b[0;34m(\u001b[0m\u001b[0mtiles\u001b[0m\u001b[0;34m[\u001b[0m\u001b[0mp\u001b[0m\u001b[0;34m[\u001b[0m\u001b[0;36m2\u001b[0m\u001b[0;34m]\u001b[0m\u001b[0;34m]\u001b[0m\u001b[0;34m)\u001b[0m \u001b[0;34m*\u001b[0m \u001b[0mx\u001b[0m\u001b[0;34m[\u001b[0m\u001b[0mp\u001b[0m\u001b[0;34m]\u001b[0m \u001b[0;32mfor\u001b[0m \u001b[0mp\u001b[0m \u001b[0;32min\u001b[0m \u001b[0mvars\u001b[0m\u001b[0;34m]\u001b[0m\u001b[0;34m)\u001b[0m\u001b[0;34m\u001b[0m\u001b[0;34m\u001b[0m\u001b[0m\n\u001b[0m\u001b[1;32m      2\u001b[0m \u001b[0mprint\u001b[0m\u001b[0;34m(\u001b[0m\u001b[0mmod\u001b[0m\u001b[0;34m)\u001b[0m\u001b[0;34m\u001b[0m\u001b[0;34m\u001b[0m\u001b[0m\n",
      "\u001b[0;31mIndexError\u001b[0m: list index out of range"
     ]
    }
   ],
   "source": [
    "mod += sum([len(tiles[p[2]]) * x[p] for p in vars])\n",
    "print(mod)"
   ]
  },
  {
   "cell_type": "code",
   "execution_count": 25,
   "id": "f4c9348f",
   "metadata": {},
   "outputs": [],
   "source": [
    "for tnum in range(len(tiles)):\n",
    "    mod += sum([x[p] for p in vars if p[2] == tnum]) <= 1"
   ]
  },
  {
   "cell_type": "code",
   "execution_count": 14,
   "id": "f92cae6c",
   "metadata": {},
   "outputs": [],
   "source": [
    "for s in squares:\n",
    "    mod += sum([x[p] for p in vars if s in covered(tiles[p[2]], (p[0], p[1]))]) <= 1"
   ]
  },
  {
   "cell_type": "code",
   "execution_count": 15,
   "id": "1dac4ea3",
   "metadata": {},
   "outputs": [
    {
     "name": "stdout",
     "output_type": "stream",
     "text": [
      "Welcome to the CBC MILP Solver \n",
      "Version: 2.10.3 \n",
      "Build Date: Dec 15 2019 \n",
      "\n",
      "command line - /Users/clarkhu/opt/anaconda3/lib/python3.9/site-packages/pulp/apis/../solverdir/cbc/osx/64/cbc /var/folders/zf/z_5ht60d3n7gfsmz14cjq6fc0000gn/T/48b8a266734f43de8918675e497414b4-pulp.mps max timeMode elapsed branch printingOptions all solution /var/folders/zf/z_5ht60d3n7gfsmz14cjq6fc0000gn/T/48b8a266734f43de8918675e497414b4-pulp.sol (default strategy 1)\n",
      "At line 2 NAME          MODEL\n",
      "At line 3 ROWS\n",
      "At line 110 COLUMNS\n",
      "At line 2151 RHS\n",
      "At line 2257 BOUNDS\n",
      "At line 2513 ENDATA\n",
      "Problem MODEL has 105 rows, 255 columns and 1275 elements\n",
      "Coin0008I MODEL read with 0 errors\n",
      "Option for timeMode changed from cpu to elapsed\n",
      "Continuous objective value is 20 - 0.00 seconds\n",
      "Cgl0004I processed model has 105 rows, 255 columns (255 integer (255 of which binary)) and 1275 elements\n",
      "Cutoff increment increased from 1e-05 to 3.9999\n",
      "Cbc0038I Initial state - 0 integers unsatisfied sum - 0\n",
      "Cbc0038I Solution found of -20\n",
      "Cbc0038I Before mini branch and bound, 255 integers at bound fixed and 0 continuous\n",
      "Cbc0038I Mini branch and bound did not improve solution (0.02 seconds)\n",
      "Cbc0038I After 0.02 seconds - Feasibility pump exiting with objective of -20 - took 0.00 seconds\n",
      "Cbc0012I Integer solution of -20 found by feasibility pump after 0 iterations and 0 nodes (0.02 seconds)\n",
      "Cbc0001I Search completed - best objective -20, took 0 iterations and 0 nodes (0.02 seconds)\n",
      "Cbc0035I Maximum depth 0, 0 variables fixed on reduced cost\n",
      "Cuts at root node changed objective from -20 to -20\n",
      "Probing was tried 0 times and created 0 cuts of which 0 were active after adding rounds of cuts (0.000 seconds)\n",
      "Gomory was tried 0 times and created 0 cuts of which 0 were active after adding rounds of cuts (0.000 seconds)\n",
      "Knapsack was tried 0 times and created 0 cuts of which 0 were active after adding rounds of cuts (0.000 seconds)\n",
      "Clique was tried 0 times and created 0 cuts of which 0 were active after adding rounds of cuts (0.000 seconds)\n",
      "MixedIntegerRounding2 was tried 0 times and created 0 cuts of which 0 were active after adding rounds of cuts (0.000 seconds)\n",
      "FlowCover was tried 0 times and created 0 cuts of which 0 were active after adding rounds of cuts (0.000 seconds)\n",
      "TwoMirCuts was tried 0 times and created 0 cuts of which 0 were active after adding rounds of cuts (0.000 seconds)\n",
      "ZeroHalf was tried 0 times and created 0 cuts of which 0 were active after adding rounds of cuts (0.000 seconds)\n",
      "\n",
      "Result - Optimal solution found\n",
      "\n",
      "Objective value:                20.00000000\n",
      "Enumerated nodes:               0\n",
      "Total iterations:               0\n",
      "Time (CPU seconds):             0.01\n",
      "Time (Wallclock seconds):       0.03\n",
      "\n",
      "Option for printingOptions changed from normal to all\n",
      "Total time (CPU seconds):       0.01   (Wallclock seconds):       0.04\n",
      "\n"
     ]
    },
    {
     "data": {
      "text/plain": [
       "1"
      ]
     },
     "execution_count": 15,
     "metadata": {},
     "output_type": "execute_result"
    }
   ],
   "source": [
    "mod.solve()"
   ]
  },
  {
   "cell_type": "code",
   "execution_count": 16,
   "id": "cfae676b",
   "metadata": {},
   "outputs": [],
   "source": [
    "out = [['-'] * cols for rep in range(rows)]\n"
   ]
  },
  {
   "cell_type": "code",
   "execution_count": 17,
   "id": "731099f7",
   "metadata": {},
   "outputs": [],
   "source": [
    "chars = string.ascii_uppercase + string.ascii_lowercase\n"
   ]
  },
  {
   "cell_type": "code",
   "execution_count": 18,
   "id": "381e8bed",
   "metadata": {},
   "outputs": [],
   "source": [
    "numset = 0\n"
   ]
  },
  {
   "cell_type": "code",
   "execution_count": 19,
   "id": "918314b9",
   "metadata": {},
   "outputs": [],
   "source": [
    "for p in vars:\n",
    "    if x[p].value() == 1.0:\n",
    "        for off in tiles[p[2]]:\n",
    "            out[p[0] + off[0]][p[1] + off[1]] = chars[numset]\n",
    "        numset += 1"
   ]
  },
  {
   "cell_type": "code",
   "execution_count": 21,
   "id": "917980df",
   "metadata": {},
   "outputs": [
    {
     "name": "stdout",
     "output_type": "stream",
     "text": [
      "----------\n",
      "----------\n",
      "----AB--BA\n",
      "----------\n",
      "--C-C-----\n",
      "---D-B-DB-\n",
      "--C-C-----\n",
      "----A----A\n",
      "EE--------\n",
      "EE-D---D--\n"
     ]
    }
   ],
   "source": [
    "for row in out:\n",
    "#     print(row)\n",
    "    print(''.join(row))\n"
   ]
  },
  {
   "cell_type": "code",
   "execution_count": null,
   "id": "6e9bc225",
   "metadata": {},
   "outputs": [],
   "source": []
  }
 ],
 "metadata": {
  "kernelspec": {
   "display_name": "Python 3 (ipykernel)",
   "language": "python",
   "name": "python3"
  },
  "language_info": {
   "codemirror_mode": {
    "name": "ipython",
    "version": 3
   },
   "file_extension": ".py",
   "mimetype": "text/x-python",
   "name": "python",
   "nbconvert_exporter": "python",
   "pygments_lexer": "ipython3",
   "version": "3.9.7"
  }
 },
 "nbformat": 4,
 "nbformat_minor": 5
}
